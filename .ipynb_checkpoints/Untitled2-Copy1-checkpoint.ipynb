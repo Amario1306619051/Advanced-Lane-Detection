{
 "cells": [
  {
   "cell_type": "code",
   "execution_count": 3,
   "id": "3ab03c90",
   "metadata": {},
   "outputs": [],
   "source": []
  },
  {
   "cell_type": "code",
   "execution_count": 4,
   "id": "d104121e",
   "metadata": {},
   "outputs": [
    {
     "name": "stdout",
     "output_type": "stream",
     "text": [
      "571 209\n"
     ]
    },
    {
     "ename": "error",
     "evalue": "OpenCV(4.6.0) /Users/runner/work/opencv-python/opencv-python/opencv/modules/highgui/src/window.cpp:967: error: (-215:Assertion failed) size.width>0 && size.height>0 in function 'imshow'\n",
     "output_type": "error",
     "traceback": [
      "\u001b[0;31m---------------------------------------------------------------------------\u001b[0m",
      "\u001b[0;31merror\u001b[0m                                     Traceback (most recent call last)",
      "Input \u001b[0;32mIn [4]\u001b[0m, in \u001b[0;36m<cell line: 24>\u001b[0;34m()\u001b[0m\n\u001b[1;32m     26\u001b[0m ret, img \u001b[38;5;241m=\u001b[39m cap\u001b[38;5;241m.\u001b[39mread()\n\u001b[1;32m     27\u001b[0m draw_circle_onscreen(img,ix,iy) \u001b[38;5;66;03m# draws circle on screen\u001b[39;00m\n\u001b[0;32m---> 28\u001b[0m \u001b[43mcv2\u001b[49m\u001b[38;5;241;43m.\u001b[39;49m\u001b[43mimshow\u001b[49m\u001b[43m(\u001b[49m\u001b[38;5;124;43m'\u001b[39;49m\u001b[38;5;124;43mframe\u001b[39;49m\u001b[38;5;124;43m'\u001b[39;49m\u001b[43m,\u001b[49m\u001b[43mimg\u001b[49m\u001b[43m)\u001b[49m\n\u001b[1;32m     29\u001b[0m \u001b[38;5;28;01mif\u001b[39;00m cv2\u001b[38;5;241m.\u001b[39mwaitKey(\u001b[38;5;241m20\u001b[39m) \u001b[38;5;241m&\u001b[39m \u001b[38;5;241m0xFF\u001b[39m \u001b[38;5;241m==\u001b[39m \u001b[38;5;241m27\u001b[39m:\n\u001b[1;32m     30\u001b[0m     \u001b[38;5;28;01mbreak\u001b[39;00m\n",
      "\u001b[0;31merror\u001b[0m: OpenCV(4.6.0) /Users/runner/work/opencv-python/opencv-python/opencv/modules/highgui/src/window.cpp:967: error: (-215:Assertion failed) size.width>0 && size.height>0 in function 'imshow'\n"
     ]
    }
   ],
   "source": [
    "import cv2\n",
    "process = []\n",
    "frameList = []\n",
    "video = cv2.VideoCapture('kamera roof.mp4')\n",
    "cap = video\n",
    "ix, iy = -1,-1\n",
    "\n",
    "def mouseCallback(event,x,y,flags,param):\n",
    "    global ix\n",
    "    global iy\n",
    "\n",
    "    if event == cv2.EVENT_LBUTTONDOWN:\n",
    "        ix = x # saves the position of the last click\n",
    "        iy = y\n",
    "\n",
    "    elif event == cv2.EVENT_LBUTTONUP:\n",
    "        print(x , y)\n",
    "\n",
    "def draw_circle_onscreen(frame, x,y):\n",
    "    cv2.circle(frame, (x,y), 10,(0, 0, 255),-1)\n",
    "\n",
    "cv2.namedWindow('frame')\n",
    "cv2.setMouseCallback('frame',mouseCallback) # mouse callback has to be set only once\n",
    "\n",
    "while(cap.isOpened()):\n",
    "      \n",
    "    ret, img = cap.read()\n",
    "    draw_circle_onscreen(img,ix,iy) # draws circle on screen\n",
    "    cv2.imshow('frame',img)\n",
    "    if cv2.waitKey(20) & 0xFF == 27:\n",
    "        break\n",
    "# When everything done, release \n",
    "# the video capture object\n",
    "cap.release()\n",
    "cv2.destroyAllWindows()"
   ]
  }
 ],
 "metadata": {
  "kernelspec": {
   "display_name": "Python 3 (ipykernel)",
   "language": "python",
   "name": "python3"
  },
  "language_info": {
   "codemirror_mode": {
    "name": "ipython",
    "version": 3
   },
   "file_extension": ".py",
   "mimetype": "text/x-python",
   "name": "python",
   "nbconvert_exporter": "python",
   "pygments_lexer": "ipython3",
   "version": "3.9.12"
  }
 },
 "nbformat": 4,
 "nbformat_minor": 5
}
