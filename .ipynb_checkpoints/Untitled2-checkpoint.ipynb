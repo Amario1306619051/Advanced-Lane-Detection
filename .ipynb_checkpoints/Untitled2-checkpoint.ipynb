{
 "cells": [
  {
   "cell_type": "code",
   "execution_count": null,
   "id": "3ab03c90",
   "metadata": {},
   "outputs": [],
   "source": [
    "import cv2\n",
    "def draw_circles(event,x,y,flags,param):\n",
    "    if event==cv2.EVENT_LBUTTONDOWN:\n",
    "        cv2.circle(frameList[0],(m,n),5,(255,255,255),-1)\n",
    "        print(x , y)"
   ]
  },
  {
   "cell_type": "code",
   "execution_count": null,
   "id": "d104121e",
   "metadata": {},
   "outputs": [],
   "source": [
    "process = []\n",
    "frameList = []\n",
    "x = 0\n",
    "y = 0\n",
    "video = cv2.VideoCapture('gopro.mp4')\n",
    "cap = video\n",
    "while(cap.isOpened()):\n",
    "      \n",
    "  # Capture frame-by-frame\n",
    "  ret, img = cap.read()\n",
    "  try:\n",
    "      frame = Pipeline(img)\n",
    "  except:\n",
    "      frame = img\n",
    "  \n",
    "\n",
    "  frameList.append(frame)\n",
    "\n",
    "  for i in range(0,img.shape[1],50):\n",
    "        for k in range(0, img.s\n",
    "          cv2.circle(frame, (i, k), 5, (0, 0, 255), -1) # top left\n",
    "    \n",
    "  if ret == True:\n",
    "    # Display the resulting frame\n",
    "    cv2.imshow('Frame', frame)\n",
    "    \n",
    "    # Press Q on keyboard to  exit\n",
    "    if cv2.waitKey(10) & 0xFF == ord('q'):\n",
    "      break\n",
    "    \n",
    "\n",
    "  \n",
    "  # Break the loop\n",
    "  else: \n",
    "    break\n",
    "\n",
    "# When everything done, release \n",
    "# the video capture object\n",
    "cap.release()\n",
    "cv2.destroyAllWindows()"
   ]
  },
  {
   "cell_type": "code",
   "execution_count": 3,
   "id": "5fb89fef",
   "metadata": {},
   "outputs": [],
   "source": [
    "def draw_circles(event,x,y,flags,param):\n",
    "    if event==cv2.EVENT_LBUTTONDOWN:\n",
    "        cv2.circle(frameList[0],(x,y),5,(255,255,255),-1)\n",
    "        print(x , y)"
   ]
  },
  {
   "cell_type": "code",
   "execution_count": null,
   "id": "c6c6fb66",
   "metadata": {},
   "outputs": [
    {
     "name": "stdout",
     "output_type": "stream",
     "text": [
      "638 218\n",
      "1518 229\n",
      "397 655\n",
      "1737 700\n"
     ]
    }
   ],
   "source": [
    "# draw circles\n",
    "while True:\n",
    "    cv2.setMouseCallback('win',draw_circles)\n",
    "    cv2.imshow('win',frameList[0])\n",
    "    if cv2.waitKey(1)== 10:\n",
    "        break"
   ]
  },
  {
   "cell_type": "code",
   "execution_count": null,
   "id": "971c9931",
   "metadata": {},
   "outputs": [],
   "source": []
  }
 ],
 "metadata": {
  "kernelspec": {
   "display_name": "Python 3 (ipykernel)",
   "language": "python",
   "name": "python3"
  },
  "language_info": {
   "codemirror_mode": {
    "name": "ipython",
    "version": 3
   },
   "file_extension": ".py",
   "mimetype": "text/x-python",
   "name": "python",
   "nbconvert_exporter": "python",
   "pygments_lexer": "ipython3",
   "version": "3.9.12"
  }
 },
 "nbformat": 4,
 "nbformat_minor": 5
}
