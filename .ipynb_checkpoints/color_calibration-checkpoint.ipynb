{
 "cells": [
  {
   "cell_type": "code",
   "execution_count": null,
   "id": "ee16ff36",
   "metadata": {},
   "outputs": [
    {
     "name": "stdout",
     "output_type": "stream",
     "text": [
      "(hMin = 0 , sMin = 0, vMin = 0), (hMax = 179 , sMax = 255, vMax = 255)\n"
     ]
    }
   ],
   "source": [
    "import cv2\n",
    "import sys\n",
    "import numpy as np\n",
    "\n",
    "def nothing(x):\n",
    "    pass\n",
    "\n",
    "cv2.startWindowThread()\n",
    "# Create a window\n",
    "cv2.namedWindow('image')\n",
    "\n",
    "\n",
    "# create trackbars for color change\n",
    "cv2.createTrackbar('HMin','image',0,179,nothing) # Hue is from 0-179 for Opencv\n",
    "cv2.createTrackbar('SMin','image',0,255,nothing)\n",
    "cv2.createTrackbar('VMin','image',0,255,nothing)\n",
    "cv2.createTrackbar('HMax','image',0,179,nothing)\n",
    "cv2.createTrackbar('SMax','image',0,255,nothing)\n",
    "cv2.createTrackbar('VMax','image',0,255,nothing)\n",
    "\n",
    "# Set default value for MAX HSV trackbars.\n",
    "cv2.setTrackbarPos('HMax', 'image', 179)\n",
    "cv2.setTrackbarPos('SMax', 'image', 255)\n",
    "cv2.setTrackbarPos('VMax', 'image', 255)\n",
    "\n",
    "# Initialize to check if HSV min/max value changes\n",
    "hMin = sMin = vMin = hMax = sMax = vMax = 0\n",
    "phMin = psMin = pvMin = phMax = psMax = pvMax = 0\n",
    "\n",
    "img = cv2.imread('lane_detection_hijau.jpeg')\n",
    "output = img\n",
    "waitTime = 33\n",
    "\n",
    "while(1):\n",
    "\n",
    "    # get current positions of all trackbars\n",
    "    hMin = cv2.getTrackbarPos('HMin','image')\n",
    "    sMin = cv2.getTrackbarPos('SMin','image')\n",
    "    vMin = cv2.getTrackbarPos('VMin','image')\n",
    "\n",
    "    hMax = cv2.getTrackbarPos('HMax','image')\n",
    "    sMax = cv2.getTrackbarPos('SMax','image')\n",
    "    vMax = cv2.getTrackbarPos('VMax','image')\n",
    "\n",
    "    # Set minimum and max HSV values to display\n",
    "    lower = np.array([hMin, sMin, vMin])\n",
    "    upper = np.array([hMax, sMax, vMax])\n",
    "\n",
    "    # Create HSV Image and threshold into a range.\n",
    "    hsv = cv2.cvtColor(img, cv2.COLOR_BGR2HSV)\n",
    "    mask = cv2.inRange(hsv, lower, upper)\n",
    "    output = cv2.bitwise_and(img,img, mask= mask)\n",
    "\n",
    "    # Print if there is a change in HSV value\n",
    "    if( (phMin != hMin) | (psMin != sMin) | (pvMin != vMin) | (phMax != hMax) | (psMax != sMax) | (pvMax != vMax) ):\n",
    "        print(\"(hMin = %d , sMin = %d, vMin = %d), (hMax = %d , sMax = %d, vMax = %d)\" % (hMin , sMin , vMin, hMax, sMax , vMax))\n",
    "        phMin = hMin\n",
    "        psMin = sMin\n",
    "        pvMin = vMin\n",
    "        phMax = hMax\n",
    "        psMax = sMax\n",
    "        pvMax = vMax\n",
    "\n",
    "    # Display output image\n",
    "    cv2.imshow('image',output)\n",
    "\n",
    "    # Wait longer to prevent freeze for videos.\n",
    "    if cv2.waitKey(waitTime) & 0xFF == ord('q'):\n",
    "        break\n",
    "\n",
    "cv2.destroyAllWindows()"
   ]
  },
  {
   "cell_type": "code",
   "execution_count": 1,
   "id": "991d5d37",
   "metadata": {},
   "outputs": [
    {
     "name": "stdout",
     "output_type": "stream",
     "text": [
      "The history saving thread hit an unexpected error (OperationalError('attempt to write a readonly database')).History will not be written to the database.\n"
     ]
    }
   ],
   "source": [
    "import cv2\n",
    "\n",
    "img = cv2.imread('lane_detection_hijau.jpeg')\n",
    "cv2.startWindowThread()\n",
    "cv2.imshow('img', img)\n",
    "\n",
    "# wait forever, if Q is pressed then close cv image window\n",
    "if cv2.waitKey(0) & 0xFF == ord('q'):\n",
    "   cv2.destroyAllWindows()"
   ]
  },
  {
   "cell_type": "code",
   "execution_count": null,
   "id": "4dcef575",
   "metadata": {},
   "outputs": [],
   "source": [
    "import cv2\n",
    "cv2.namedWindow('imageWindow')\n",
    "img = cv2.imread('lane_detection_hijau.jpeg')\n",
    "cv2.imshow('imageWindow',img)\n",
    "wait = True\n",
    "while wait:\n",
    "  wait = cv2.waitKey()=='q113' # hit q to exit"
   ]
  }
 ],
 "metadata": {
  "kernelspec": {
   "display_name": "Python 3 (ipykernel)",
   "language": "python",
   "name": "python3"
  },
  "language_info": {
   "codemirror_mode": {
    "name": "ipython",
    "version": 3
   },
   "file_extension": ".py",
   "mimetype": "text/x-python",
   "name": "python",
   "nbconvert_exporter": "python",
   "pygments_lexer": "ipython3",
   "version": "3.9.12"
  }
 },
 "nbformat": 4,
 "nbformat_minor": 5
}
