{
 "cells": [
  {
   "cell_type": "code",
   "execution_count": 2,
   "id": "d3b881e3",
   "metadata": {},
   "outputs": [],
   "source": [
    "import cv2\n",
    "frameList = []\n",
    "video = cv2.VideoCapture('kamera roof.mp4')\n",
    "cap = video\n",
    "while(cap.isOpened()):\n",
    "      \n",
    "  # Capture frame-by-frame\n",
    "  ret, img = cap.read()\n",
    "  frame = img\n",
    "    \n",
    "  if ret == True:\n",
    "    # Display the resulting frame\n",
    "    cv2.imshow('Frame', frame)\n",
    "   \n",
    "    # Press Q on keyboard to  exit\n",
    "    if cv2.waitKey(10) & 0xFF == ord('q'):\n",
    "      break\n",
    "   \n",
    "  # Break the loop\n",
    "  else: \n",
    "    break\n",
    "  \n",
    "  frameList.append(img)\n",
    "# When everything done, release \n",
    "# the video capture object\n",
    "cap.release()\n",
    "cv2.destroyAllWindows()"
   ]
  },
  {
   "cell_type": "code",
   "execution_count": 5,
   "id": "9cc219ca",
   "metadata": {},
   "outputs": [],
   "source": [
    "video=cv2.VideoWriter('video.avi',-1,1,(1080,720))\n",
    "for j in range(0,5):\n",
    "  video.write(img[j])\n",
    "for j in range(0,5):\n",
    "  video.write(img[j])"
   ]
  },
  {
   "cell_type": "code",
   "execution_count": null,
   "id": "54af0ccb",
   "metadata": {},
   "outputs": [],
   "source": []
  }
 ],
 "metadata": {
  "kernelspec": {
   "display_name": "Python 3 (ipykernel)",
   "language": "python",
   "name": "python3"
  },
  "language_info": {
   "codemirror_mode": {
    "name": "ipython",
    "version": 3
   },
   "file_extension": ".py",
   "mimetype": "text/x-python",
   "name": "python",
   "nbconvert_exporter": "python",
   "pygments_lexer": "ipython3",
   "version": "3.9.12"
  }
 },
 "nbformat": 4,
 "nbformat_minor": 5
}
