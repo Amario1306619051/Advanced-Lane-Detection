{
 "cells": [
  {
   "cell_type": "code",
   "execution_count": 1,
   "id": "ade8e95d",
   "metadata": {},
   "outputs": [
    {
     "name": "stdout",
     "output_type": "stream",
     "text": [
      "Frames per second using video.get(cv2.CAP_PROP_FPS) : 30.0\n",
      "Capturing 672 frames\n"
     ]
    },
    {
     "ename": "error",
     "evalue": "OpenCV(4.6.0) /Users/runner/work/opencv-python/opencv-python/opencv/modules/highgui/src/window.cpp:967: error: (-215:Assertion failed) size.width>0 && size.height>0 in function 'imshow'\n",
     "output_type": "error",
     "traceback": [
      "\u001b[0;31m---------------------------------------------------------------------------\u001b[0m",
      "\u001b[0;31merror\u001b[0m                                     Traceback (most recent call last)",
      "Input \u001b[0;32mIn [1]\u001b[0m, in \u001b[0;36m<cell line: 24>\u001b[0;34m()\u001b[0m\n\u001b[1;32m     24\u001b[0m \u001b[38;5;28;01mwhile\u001b[39;00m(cap\u001b[38;5;241m.\u001b[39misOpened()):\n\u001b[1;32m     25\u001b[0m     ret, frame \u001b[38;5;241m=\u001b[39m video\u001b[38;5;241m.\u001b[39mread()\n\u001b[0;32m---> 26\u001b[0m     \u001b[43mcv2\u001b[49m\u001b[38;5;241;43m.\u001b[39;49m\u001b[43mimshow\u001b[49m\u001b[43m(\u001b[49m\u001b[38;5;124;43m'\u001b[39;49m\u001b[38;5;124;43mFrame\u001b[39;49m\u001b[38;5;124;43m'\u001b[39;49m\u001b[43m,\u001b[49m\u001b[43m \u001b[49m\u001b[43mframe\u001b[49m\u001b[43m)\u001b[49m\n\u001b[1;32m     28\u001b[0m \u001b[38;5;66;03m# End time\u001b[39;00m\n\u001b[1;32m     29\u001b[0m end \u001b[38;5;241m=\u001b[39m time\u001b[38;5;241m.\u001b[39mtime()\n",
      "\u001b[0;31merror\u001b[0m: OpenCV(4.6.0) /Users/runner/work/opencv-python/opencv-python/opencv/modules/highgui/src/window.cpp:967: error: (-215:Assertion failed) size.width>0 && size.height>0 in function 'imshow'\n"
     ]
    }
   ],
   "source": [
    "import cv2\n",
    "import time\n",
    "\n",
    "video = cv2.VideoCapture('sample video_mobil.mp4');\n",
    "cap = video\n",
    "(major_ver, minor_ver, subminor_ver) = (cv2.__version__).split('.')\n",
    "\n",
    "if int(major_ver)  < 3 :\n",
    "    fps = video.get(cv2.cv.CV_CAP_PROP_FPS)\n",
    "    print(\"Frames per second using video.get(cv2.cv.CV_CAP_PROP_FPS): {0}\".format(fps))\n",
    "else :\n",
    "    fps = video.get(cv2.CAP_PROP_FPS)\n",
    "    print(\"Frames per second using video.get(cv2.CAP_PROP_FPS) : {0}\".format(fps))\n",
    "    \n",
    "# Number of frames to capture\n",
    "num_frames = 672;\n",
    "\n",
    "print(\"Capturing {0} frames\".format(num_frames))\n",
    "\n",
    "# Start time\n",
    "start = time.time()\n",
    "\n",
    "# Grab a few frames\n",
    "while(cap.isOpened()):\n",
    "    ret, frame = video.read()\n",
    "    cv2.imshow('Frame', frame)\n",
    "\n",
    "# End time\n",
    "end = time.time()\n",
    "\n",
    "# Time elapsed\n",
    "seconds = end - start\n",
    "print (\"Time taken : {0} seconds\".format(seconds))\n",
    "\n",
    "# Calculate frames per second\n",
    "fps  = num_frames / seconds\n",
    "print(\"Estimated frames per second : {0}\".format(fps))\n",
    "\n",
    "# Release video\n",
    "video.release()"
   ]
  },
  {
   "cell_type": "code",
   "execution_count": 2,
   "id": "3d9d7d02",
   "metadata": {},
   "outputs": [],
   "source": [
    "if (cap.isOpened()== False): \n",
    "  print(\"Error opening video  file\")\n",
    "   \n",
    "# Read until video is completed\n",
    "while(cap.isOpened()):\n",
    "      \n",
    "  # Capture frame-by-frame\n",
    "  ret, frame = cap.read()\n",
    "  if ret == True:\n",
    "      \n",
    "    # Display the resulting frame\n",
    "    cv2.imshow('Frame', frame)\n",
    "    timestamps.append(cap.get(cv2.CAP_PROP_POS_MSEC))\n",
    "    calc_timestamps.append(calc_timestamps[-1] + 1000/fps)\n",
    "   \n",
    "    # Press Q on keyboard to  exit\n",
    "    if cv2.waitKey(25) & 0xFF == ord('q'):\n",
    "      break\n",
    "   \n",
    "  # Break the loop\n",
    "  else: \n",
    "    break\n",
    "   \n",
    "# When everything done, release \n",
    "# the video capture object\n",
    "cap.release()\n",
    "cv2.destroyAllWindows()"
   ]
  },
  {
   "cell_type": "code",
   "execution_count": 1,
   "id": "69f5b6fa",
   "metadata": {},
   "outputs": [
    {
     "name": "stdout",
     "output_type": "stream",
     "text": [
      "hello\n",
      "0.0003478527069091797\n"
     ]
    }
   ],
   "source": [
    "import time\n",
    "\n",
    "start = time.time()\n",
    "print(\"hello\")\n",
    "end = time.time()\n",
    "print(end - start)"
   ]
  },
  {
   "cell_type": "code",
   "execution_count": null,
   "id": "340bd689",
   "metadata": {},
   "outputs": [],
   "source": []
  }
 ],
 "metadata": {
  "kernelspec": {
   "display_name": "Python 3 (ipykernel)",
   "language": "python",
   "name": "python3"
  },
  "language_info": {
   "codemirror_mode": {
    "name": "ipython",
    "version": 3
   },
   "file_extension": ".py",
   "mimetype": "text/x-python",
   "name": "python",
   "nbconvert_exporter": "python",
   "pygments_lexer": "ipython3",
   "version": "3.9.12"
  }
 },
 "nbformat": 4,
 "nbformat_minor": 5
}
